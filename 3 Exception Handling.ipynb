{
 "cells": [
  {
   "cell_type": "markdown",
   "id": "d72faf8c-1c84-4f21-91c7-5911e65f1440",
   "metadata": {},
   "source": [
    "# Error & Exception\n",
    "- __Syntax Error__: Kesalahan terkait syntax (penulisan, pendefinisian, tanda baca).\n",
    "- __Exception__: Error yg ditemukan saat dieksekusi biasanya tidak fatal, dapat dihandle."
   ]
  },
  {
   "cell_type": "markdown",
   "id": "12668d54-d424-45b9-ae28-695b1b51be11",
   "metadata": {},
   "source": [
    "## 1. Syntax Error"
   ]
  },
  {
   "cell_type": "code",
   "execution_count": 6,
   "id": "55f8fb40-03ee-4dd5-9c2f-422ef1ff08a9",
   "metadata": {},
   "outputs": [
    {
     "ename": "SyntaxError",
     "evalue": "invalid syntax (1238446886.py, line 1)",
     "output_type": "error",
     "traceback": [
      "\u001b[1;36m  Cell \u001b[1;32mIn[6], line 1\u001b[1;36m\u001b[0m\n\u001b[1;33m    x := 12 # SyntaxError: invalid syntax\u001b[0m\n\u001b[1;37m      ^\u001b[0m\n\u001b[1;31mSyntaxError\u001b[0m\u001b[1;31m:\u001b[0m invalid syntax\n"
     ]
    }
   ],
   "source": [
    "x := 12 # SyntaxError: invalid syntax\n",
    "# x = 12 // nilai x = 12 # SyntaxError: invalid syntax. Perhaps you forgot a comma?\n",
    "# def pi()  # SyntaxError: expected ':'\n",
    "#     return 3.14\n",
    "# Def pi(): # SyntaxError: expected ':'\n",
    "#     return 3.14"
   ]
  },
  {
   "cell_type": "markdown",
   "id": "8fa68350-5225-4f65-9ed4-8bb3d0dc0795",
   "metadata": {},
   "source": [
    "## 2. Exception\n",
    "- [Error Docs](https://docs.python.org/3/tutorial/errors.html)\n",
    "- [Built-in Exception](https://docs.python.org/3/library/exceptions.html#bltin-exceptions)"
   ]
  },
  {
   "cell_type": "code",
   "execution_count": 8,
   "id": "f6738174-7a19-4fe2-a840-84e77347f7b5",
   "metadata": {},
   "outputs": [
    {
     "ename": "ZeroDivisionError",
     "evalue": "division by zero",
     "output_type": "error",
     "traceback": [
      "\u001b[1;31m---------------------------------------------------------------------------\u001b[0m",
      "\u001b[1;31mZeroDivisionError\u001b[0m                         Traceback (most recent call last)",
      "Cell \u001b[1;32mIn[8], line 1\u001b[0m\n\u001b[1;32m----> 1\u001b[0m \u001b[38;5;241;43m1\u001b[39;49m\u001b[38;5;241;43m/\u001b[39;49m\u001b[38;5;241;43m0\u001b[39;49m\n\u001b[0;32m      2\u001b[0m \u001b[38;5;66;03m# pembagian berlaku komutatif x / y = z <=> z * y = x\u001b[39;00m\n",
      "\u001b[1;31mZeroDivisionError\u001b[0m: division by zero"
     ]
    }
   ],
   "source": [
    "1/0 # ZeroDivisionError: division by zero\n",
    "# pembagian berlaku komutatif x / y = z <=> z * y = x"
   ]
  },
  {
   "cell_type": "code",
   "execution_count": 9,
   "id": "4716e821-a5f5-4329-86a6-3699d3fe024a",
   "metadata": {},
   "outputs": [
    {
     "ename": "NameError",
     "evalue": "name 'y' is not defined",
     "output_type": "error",
     "traceback": [
      "\u001b[1;31m---------------------------------------------------------------------------\u001b[0m",
      "\u001b[1;31mNameError\u001b[0m                                 Traceback (most recent call last)",
      "Cell \u001b[1;32mIn[9], line 1\u001b[0m\n\u001b[1;32m----> 1\u001b[0m \u001b[38;5;28mprint\u001b[39m(\u001b[43my\u001b[49m)\n",
      "\u001b[1;31mNameError\u001b[0m: name 'y' is not defined"
     ]
    }
   ],
   "source": [
    "print(y) # NameError: name 'y' is not defined"
   ]
  },
  {
   "cell_type": "code",
   "execution_count": 14,
   "id": "b12fd63c-8fd9-4a41-bc7f-9fbabcce4dd5",
   "metadata": {},
   "outputs": [
    {
     "ename": "TypeError",
     "evalue": "unsupported operand type(s) for %: 'int' and 'str'",
     "output_type": "error",
     "traceback": [
      "\u001b[1;31m---------------------------------------------------------------------------\u001b[0m",
      "\u001b[1;31mTypeError\u001b[0m                                 Traceback (most recent call last)",
      "Cell \u001b[1;32mIn[14], line 5\u001b[0m\n\u001b[0;32m      1\u001b[0m \u001b[38;5;66;03m# 12 + 'Andi' # TypeError: unsupported operand type(s) for +: 'int' and 'str'\u001b[39;00m\n\u001b[0;32m      2\u001b[0m \u001b[38;5;66;03m# 100 - \"Budi\"\u001b[39;00m\n\u001b[0;32m      3\u001b[0m \u001b[38;5;66;03m# 200 * \"Caca\" # tidak Error\u001b[39;00m\n\u001b[0;32m      4\u001b[0m \u001b[38;5;66;03m# 100 / \"Tes\"\u001b[39;00m\n\u001b[1;32m----> 5\u001b[0m \u001b[38;5;241;43m100\u001b[39;49m\u001b[43m \u001b[49m\u001b[38;5;241;43m%\u001b[39;49m\u001b[43m \u001b[49m\u001b[38;5;124;43m\"\u001b[39;49m\u001b[38;5;124;43mX\u001b[39;49m\u001b[38;5;124;43m\"\u001b[39;49m\n",
      "\u001b[1;31mTypeError\u001b[0m: unsupported operand type(s) for %: 'int' and 'str'"
     ]
    }
   ],
   "source": [
    "# 12 + 'Andi' # TypeError: unsupported operand type(s) for +: 'int' and 'str'\n",
    "# 100 - \"Budi\"\n",
    "# 100 / \"Tes\"\n",
    "# 100 % \"X\"\n",
    "\n",
    "# 200 * \"Caca\" # tidak Error"
   ]
  },
  {
   "cell_type": "code",
   "execution_count": 27,
   "id": "3f85162c-cc5a-4410-8bb0-d55dc3e28bc7",
   "metadata": {},
   "outputs": [
    {
     "name": "stdout",
     "output_type": "stream",
     "text": [
      "0\n",
      "Error karena dibagi 0\n",
      "Ini finally block\n"
     ]
    }
   ],
   "source": [
    "x = 12\n",
    "y = 0\n",
    "try:  # line utk dicek\n",
    "    x / y\n",
    "except: # handle exception\n",
    "    print(y)\n",
    "    print('Error karena dibagi 0')\n",
    "else: # running ketika tak ada exception\n",
    "    print(y)\n",
    "    print('Tidak ada error')\n",
    "finally: # running dlm kondisi apapun tak peduli hasil try\n",
    "    print(\"Ini finally block\")"
   ]
  },
  {
   "cell_type": "code",
   "execution_count": 47,
   "id": "fe639658-9fc5-4068-bea9-5557a9e873b4",
   "metadata": {},
   "outputs": [
    {
     "name": "stdout",
     "output_type": "stream",
     "text": [
      "Error ya gaes ya: name 'umur' is not defined\n"
     ]
    }
   ],
   "source": [
    "x = 90\n",
    "try:\n",
    "    umur / 0\n",
    "except ZeroDivisionError as e:\n",
    "    print('Error ya gaes ya:', e)\n",
    "except NameError as error:\n",
    "    print('Error ya gaes ya:', error)\n",
    "except:\n",
    "    print('Error karena something')"
   ]
  },
  {
   "cell_type": "code",
   "execution_count": 41,
   "id": "e56df490-8b42-439e-a2d0-45bba1e3f7c9",
   "metadata": {},
   "outputs": [
    {
     "ename": "Exception",
     "evalue": "Minimal saldo untuk transfer 10000! Saldo Anda < 10000",
     "output_type": "error",
     "traceback": [
      "\u001b[1;31m---------------------------------------------------------------------------\u001b[0m",
      "\u001b[1;31mException\u001b[0m                                 Traceback (most recent call last)",
      "Cell \u001b[1;32mIn[41], line 7\u001b[0m\n\u001b[0;32m      5\u001b[0m         \u001b[38;5;28;01mraise\u001b[39;00m \u001b[38;5;167;01mException\u001b[39;00m(\u001b[38;5;124m'\u001b[39m\u001b[38;5;124mMinimal saldo untuk transfer 10000! Saldo Anda < 10000\u001b[39m\u001b[38;5;124m'\u001b[39m)\n\u001b[0;32m      6\u001b[0m     \u001b[38;5;28;01mreturn\u001b[39;00m saldo \u001b[38;5;241m-\u001b[39m nominalTf\n\u001b[1;32m----> 7\u001b[0m saldo \u001b[38;5;241m=\u001b[39m \u001b[43mtransfer\u001b[49m\u001b[43m(\u001b[49m\u001b[38;5;241;43m10000\u001b[39;49m\u001b[43m)\u001b[49m\n\u001b[0;32m      8\u001b[0m saldo\n",
      "Cell \u001b[1;32mIn[41], line 5\u001b[0m, in \u001b[0;36mtransfer\u001b[1;34m(nominalTf)\u001b[0m\n\u001b[0;32m      3\u001b[0m \u001b[38;5;28;01mdef\u001b[39;00m \u001b[38;5;21mtransfer\u001b[39m(nominalTf):\n\u001b[0;32m      4\u001b[0m     \u001b[38;5;28;01mif\u001b[39;00m saldo \u001b[38;5;241m<\u001b[39m \u001b[38;5;241m10000\u001b[39m:\n\u001b[1;32m----> 5\u001b[0m         \u001b[38;5;28;01mraise\u001b[39;00m \u001b[38;5;167;01mException\u001b[39;00m(\u001b[38;5;124m'\u001b[39m\u001b[38;5;124mMinimal saldo untuk transfer 10000! Saldo Anda < 10000\u001b[39m\u001b[38;5;124m'\u001b[39m)\n\u001b[0;32m      6\u001b[0m     \u001b[38;5;28;01mreturn\u001b[39;00m saldo \u001b[38;5;241m-\u001b[39m nominalTf\n",
      "\u001b[1;31mException\u001b[0m: Minimal saldo untuk transfer 10000! Saldo Anda < 10000"
     ]
    }
   ],
   "source": [
    "# saya buat exception: saldo < 10000 tidak bisa transfer\n",
    "saldo = 0\n",
    "def transfer(nominalTf):\n",
    "    if saldo < 10000:\n",
    "        raise Exception('Minimal saldo untuk transfer 10000! Saldo Anda < 10000')\n",
    "    return saldo - nominalTf\n",
    "saldo = transfer(10000)\n",
    "saldo"
   ]
  }
 ],
 "metadata": {
  "kernelspec": {
   "display_name": "Python 3 (ipykernel)",
   "language": "python",
   "name": "python3"
  },
  "language_info": {
   "codemirror_mode": {
    "name": "ipython",
    "version": 3
   },
   "file_extension": ".py",
   "mimetype": "text/x-python",
   "name": "python",
   "nbconvert_exporter": "python",
   "pygments_lexer": "ipython3",
   "version": "3.10.0"
  }
 },
 "nbformat": 4,
 "nbformat_minor": 5
}
